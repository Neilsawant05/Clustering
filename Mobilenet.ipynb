{
 "cells": [
  {
   "cell_type": "code",
   "execution_count": 4,
   "id": "fcbd94b5",
   "metadata": {},
   "outputs": [],
   "source": [
    "import re # using regular expression to find different seperators\n",
    "from pyspark.sql.types import *\n",
    "from pyspark.sql.functions import * # importing col"
   ]
  },
  {
   "cell_type": "code",
   "execution_count": 5,
   "id": "d30ef4f9",
   "metadata": {},
   "outputs": [],
   "source": [
    "device_status ='s3://finalprojneil/devicestatus.txt'"
   ]
  },
  {
   "cell_type": "code",
   "execution_count": 6,
   "id": "a1751487",
   "metadata": {},
   "outputs": [
    {
     "name": "stderr",
     "output_type": "stream",
     "text": [
      "[Stage 3:>                                                          (0 + 1) / 1]"
     ]
    },
    {
     "name": "stdout",
     "output_type": "stream",
     "text": [
      "+-------------+--------------+-------------------+-------+--------------------+------------+\n",
      "|     Latitude|     Longitude|               Date|  Model|           Device ID|Manufacturer|\n",
      "+-------------+--------------+-------------------+-------+--------------------+------------+\n",
      "|33.6894754264|-117.543308253|2014-03-15:10:10:20|   F41L|8cc3b47e-bd01-448...|    Sorrento|\n",
      "|37.4321088904|-121.485029632|2014-03-15:10:10:20|    1.0|ef8c7564-0a1a-465...|      MeeToo|\n",
      "|39.4378908349|-120.938978486|2014-03-15:10:10:20|    1.0|23eba027-b95a-472...|      MeeToo|\n",
      "|39.3635186767|-119.400334708|2014-03-15:10:10:20|   F41L|707daba1-5640-4d6...|    Sorrento|\n",
      "|33.1913581092|-116.448242643|2014-03-15:10:10:20|Novelty|db66fe81-aa55-43b...|       Ronin|\n",
      "+-------------+--------------+-------------------+-------+--------------------+------------+\n",
      "only showing top 5 rows\n",
      "\n"
     ]
    },
    {
     "name": "stderr",
     "output_type": "stream",
     "text": [
      "                                                                                \r"
     ]
    }
   ],
   "source": [
    "device_status_log=sc.textFile(device_status)\n",
    "\n",
    "# using regular expression to find the seperator\n",
    "temp_var = device_status_log.map(lambda k: re.split('[,|_/]', k)) \n",
    "\n",
    "# Load data into dataframe and change the column names and select required data only\n",
    "device_status_df = temp_var.toDF().select(col(\"_13\").alias(\"latitude\"), col(\"_14\").alias(\"longitude\"), col(\"_1\").alias(\"Date\"), col(\"_2\").alias(\"Model\"), col(\"_3\").alias(\"Device ID\"))\n",
    "\n",
    "# device_status_df = device_status_df.withColumn(\"date\", unix_timestamp(device_status_df[\"date\"], \"yyyy-mm-dd:HH:mm:ss\").cast('timestamp'))\n",
    "device_status_df = device_status_df.withColumn(\"Latitude\", device_status_df[\"latitude\"].cast('double'))\n",
    "device_status_df = device_status_df.withColumn(\"Longitude\", device_status_df[\"longitude\"].cast('double'))\n",
    "\n",
    "# filter latitude and longitude with 0 values\n",
    "device_status_df = device_status_df.filter(\"Latitude != '0' or Longitude != '0' \")\n",
    "\n",
    "# need to re look\n",
    "# split model into manufacturer and model column\n",
    "device_status_df = device_status_df.withColumn(\"Manufacturer\", split(col(\"Model\"), \" \").getItem(0)).withColumn(\"Model\", split(col(\"Model\"), \" \").getItem(1))\n",
    "\n",
    "#caching df \n",
    "device_status_df.cache()\n",
    "\n",
    "device_status_df.show(5)"
   ]
  },
  {
   "cell_type": "code",
   "execution_count": 7,
   "id": "1961d163",
   "metadata": {},
   "outputs": [
    {
     "name": "stderr",
     "output_type": "stream",
     "text": [
      "                                                                                \r"
     ]
    }
   ],
   "source": [
    "device_status_df.coalesce(1).write.mode(\"overwrite\").option(\"sep\", \",\").option(\"header\",\"true\").option(\"encoding\", \"UTF-8\").csv(\"s3a://finalprojneil/updated_device_status\")\n"
   ]
  },
  {
   "cell_type": "code",
   "execution_count": 8,
   "id": "bf769af7",
   "metadata": {},
   "outputs": [],
   "source": [
    "import pandas as pd\n",
    "import geopandas\n",
    "import matplotlib.pyplot as plt\n",
    "\n",
    "def plot_data(df, a=0, after_prediction=False):\n",
    "    pd_df = df.toPandas() # changing df to pandas dataframe\n",
    "    gdf = geopandas.GeoDataFrame(pd_df, geometry=geopandas.points_from_xy(pd_df.Longitude, pd_df.Latitude))\n",
    "    \n",
    "    world = geopandas.read_file(geopandas.datasets.get_path('naturalearth_lowres'))\n",
    "    if a == 1:\n",
    "        ax = world.plot(figsize=(20, 12), edgecolor='black', cmap='GnBu')\n",
    "    else:\n",
    "        ax = world[world.name == 'United States of America'].plot(figsize=(10, 6), cmap='twilight', edgecolor='black')\n",
    "\n",
    "    if after_prediction == False:\n",
    "        gdf.plot(ax=ax, marker='.', color='red', markersize=15)\n",
    "    else:\n",
    "        gdf.plot(ax=ax, column='prediction',marker='.', markersize=15, categorical=True, legend=True)\n",
    "        plt.scatter(centers.iloc[:,1],centers.iloc[:,0], marker=\"^\", s=80, color='black')\n",
    "\n",
    "    plt.show()"
   ]
  },
  {
   "cell_type": "code",
   "execution_count": 9,
   "id": "1821e961",
   "metadata": {},
   "outputs": [
    {
     "data": {
      "image/png": "[encoded data removed]",
      "text/plain": [
       "<Figure size 720x432 with 1 Axes>"
      ]
     },
     "metadata": {
      "needs_background": "light"
     },
     "output_type": "display_data"
    }
   ],
   "source": [
    "plot_data(device_status_df, a=0)"
   ]
  },
  {
   "cell_type": "code",
   "execution_count": null,
   "id": "61c4f956",
   "metadata": {},
   "outputs": [],
   "source": []
  }
 ],
 "metadata": {
  "kernelspec": {
   "display_name": "Python 3 (ipykernel)",
   "language": "python",
   "name": "python3"
  },
  "language_info": {
   "codemirror_mode": {
    "name": "ipython",
    "version": 3
   },
   "file_extension": ".py",
   "mimetype": "text/x-python",
   "name": "python",
   "nbconvert_exporter": "python",
   "pygments_lexer": "ipython3",
   "version": "3.7.10"
  }
 },
 "nbformat": 4,
 "nbformat_minor": 5
}
